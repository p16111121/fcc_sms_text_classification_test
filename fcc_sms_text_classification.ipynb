{
  "cells": [
    {
      "cell_type": "markdown",
      "metadata": {
        "id": "view-in-github",
        "colab_type": "text"
      },
      "source": [
        "<a href=\"https://colab.research.google.com/github/p16111121/fcc_sms_text_classification_test/blob/main/fcc_sms_text_classification.ipynb\" target=\"_parent\"><img src=\"https://colab.research.google.com/assets/colab-badge.svg\" alt=\"Open In Colab\"/></a>"
      ]
    },
    {
      "cell_type": "code",
      "execution_count": null,
      "metadata": {
        "id": "8RZOuS9LWQvv",
        "collapsed": true
      },
      "outputs": [],
      "source": [
        "# import libraries\n",
        "try:\n",
        "  # %tensorflow_version only exists in Colab.\n",
        "  !pip install tf-nightly\n",
        "except Exception:\n",
        "  pass\n",
        "import tensorflow as tf\n",
        "import pandas as pd\n",
        "from tensorflow import keras\n",
        "!pip install tensorflow-datasets\n",
        "import tensorflow_datasets as tfds\n",
        "import numpy as np\n",
        "import matplotlib.pyplot as plt\n",
        "\n",
        "print(tf.__version__)"
      ]
    },
    {
      "cell_type": "code",
      "execution_count": null,
      "metadata": {
        "id": "lMHwYXHXCar3"
      },
      "outputs": [],
      "source": [
        "# get data files\n",
        "!wget https://cdn.freecodecamp.org/project-data/sms/train-data.tsv\n",
        "!wget https://cdn.freecodecamp.org/project-data/sms/valid-data.tsv\n",
        "\n",
        "train_file_path = \"train-data.tsv\"\n",
        "test_file_path = \"valid-data.tsv\""
      ]
    },
    {
      "cell_type": "code",
      "execution_count": null,
      "metadata": {
        "id": "g_h508FEClxO"
      },
      "outputs": [],
      "source": [
        "train_dataset = pd.read_csv(train_file_path, sep='\\t', names=['type', 'msg'],header=None)\n",
        "test_dataset = pd.read_csv(test_file_path, sep='\\t', names=['type', 'msg'],header=None)"
      ]
    },
    {
      "cell_type": "code",
      "execution_count": null,
      "metadata": {
        "id": "zOMKywn4zReN"
      },
      "outputs": [],
      "source": [
        "train_dataset.head()"
      ]
    },
    {
      "cell_type": "code",
      "source": [
        "train_label = train_dataset['type']\n",
        "test_label = test_dataset['type']\n",
        "train_label = train_label.map({\"ham\": 0, \"spam\": 1})\n",
        "test_label = test_label.map({\"ham\": 0, \"spam\": 1})\n",
        "\n",
        "train_data = train_dataset.drop('type',axis = 1)\n",
        "test_data = test_dataset.drop('type',axis = 1)"
      ],
      "metadata": {
        "id": "mt7TLQCzFtkx"
      },
      "execution_count": null,
      "outputs": []
    },
    {
      "cell_type": "code",
      "source": [
        "# prompt: create a model that takes a message string as an argument and returns a binary\n",
        "\n",
        "from tensorflow.keras.layers import TextVectorization\n",
        "\n",
        "MAX_TOKENS = 1000\n",
        "OUTPUT_SEQUENCE_LENGTH = 100\n",
        "\n",
        "vectorizer = TextVectorization(max_tokens=MAX_TOKENS,\n",
        "                               output_sequence_length=OUTPUT_SEQUENCE_LENGTH)\n",
        "vectorizer.adapt(train_data['msg'])\n",
        "\n",
        "def vectorize_text(text):\n",
        "  text = tf.expand_dims(text, -1)\n",
        "  return vectorizer(text)\n",
        "\n",
        "train_data = vectorize_text(train_data['msg'])\n",
        "test_data = vectorize_text(test_data['msg'])\n",
        "\n",
        "model = tf.keras.models.Sequential([\n",
        "  tf.keras.layers.Embedding(MAX_TOKENS + 1, 32),\n",
        "  tf.keras.layers.Bidirectional(tf.keras.layers.LSTM(32)),\n",
        "  tf.keras.layers.Dense(1, activation='sigmoid')\n",
        "])\n",
        "\n",
        "model.compile(loss='binary_crossentropy', optimizer='adam', metrics=['accuracy'])\n",
        "\n",
        "model.fit(train_data, train_label, epochs=10)"
      ],
      "metadata": {
        "id": "jf9UmvIgG49L"
      },
      "execution_count": null,
      "outputs": []
    },
    {
      "cell_type": "code",
      "execution_count": null,
      "metadata": {
        "id": "J9tD9yACG6M9"
      },
      "outputs": [],
      "source": [
        "# function to predict messages based on model\n",
        "# (should return list containing prediction and label, ex. [0.008318834938108921, 'ham'])\n",
        "def predict_message(pred_text):\n",
        "    processed_message = vectorize_text(tf.constant([pred_text]))\n",
        "    type_prediction = model.predict(processed_message)[0][0]\n",
        "\n",
        "    prediction = [type_prediction, \"ham\" if int(round(type_prediction)) == 0 else \"spam\"]\n",
        "    return (prediction)\n",
        "\n",
        "#def predict_message(message):\n",
        "#  processed_message = vectorize_text(tf.constant([message]))\n",
        "#  prediction = model.predict(processed_message)[0][0]\n",
        "#  return int(round(prediction))\n",
        "\n",
        "pred_text = \"how are you doing today?\"\n",
        "\n",
        "prediction = predict_message(pred_text)\n",
        "print(prediction)"
      ]
    },
    {
      "cell_type": "code",
      "execution_count": null,
      "metadata": {
        "id": "Dxotov85SjsC"
      },
      "outputs": [],
      "source": [
        "# Run this cell to test your function and model. Do not modify contents.\n",
        "def test_predictions():\n",
        "  test_messages = [\"how are you doing today\",\n",
        "                   \"sale today! to stop texts call 98912460324\",\n",
        "                   \"i dont want to go. can we try it a different day? available sat\",\n",
        "                   \"our new mobile video service is live. just install on your phone to start watching.\",\n",
        "                   \"you have won £1000 cash! call to claim your prize.\",\n",
        "                   \"i'll bring it tomorrow. don't forget the milk.\",\n",
        "                   \"wow, is your arm alright. that happened to me one time too\"\n",
        "                  ]\n",
        "\n",
        "  test_answers = [\"ham\", \"spam\", \"ham\", \"spam\", \"spam\", \"ham\", \"ham\"]\n",
        "  passed = True\n",
        "\n",
        "  for msg, ans in zip(test_messages, test_answers):\n",
        "    prediction = predict_message(msg)\n",
        "    if prediction[1] != ans:\n",
        "      passed = False\n",
        "\n",
        "  if passed:\n",
        "    print(\"You passed the challenge. Great job!\")\n",
        "  else:\n",
        "    print(\"You haven't passed yet. Keep trying.\")\n",
        "\n",
        "test_predictions()\n"
      ]
    }
  ],
  "metadata": {
    "colab": {
      "private_outputs": true,
      "provenance": [],
      "include_colab_link": true
    },
    "kernelspec": {
      "display_name": "Python 3",
      "name": "python3"
    },
    "language_info": {}
  },
  "nbformat": 4,
  "nbformat_minor": 0
}